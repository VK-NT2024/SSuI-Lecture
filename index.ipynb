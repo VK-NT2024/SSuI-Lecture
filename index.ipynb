{
 "cells": [
  {
   "cell_type": "markdown",
   "metadata": {
    "nbsphinx": "hidden"
   },
   "source": [
    "# Statistische Signalverarbeitung und Inferenz\n",
    "\n",
    "Diese Sammlung von [jupyter](https://jupyter.org/)-Notebooks enthält Beispiele für verschiedene Themen für die Vorlesung Statistische Signalverarbeitung und Inferenz. Die theoretischen Ergebbnisse werden kurz zusammengefasst und dann mit numerischen Beispielen in [IPython 3](http://ipython.org/) anschaulich erläutert. Für detaillierte Informationen zu bestimmten Themen sei auf die Vorlesung von Prof. Volker Kühn, Institut für Nachrichtentechnik, Universität Rostock verwiesen."
   ]
  },
  {
   "cell_type": "markdown",
   "metadata": {
    "nbsphinx-toctree": {
     "maxdepth": 3,
     "numbered": true
    }
   },
   "source": [
    "## Verzeichnisse\n",
    "\n",
    "1. [Part 1: Stochastik](Stochastik/index.ipynb)\n",
    "2. [Part 3: Cramer Rao Lower Bound](CRLB/index.ipynb)\n"
   ]
  },
  {
   "cell_type": "markdown",
   "metadata": {},
   "source": [
    "## Literature\n",
    "\n",
    "Für die Vorlesung wird folgende ergänzende Literatur empfohlen:\n",
    "\n",
    "* Steven M. Kay: \"Fundamentals of Statistical Signal Processing; Volume 1: Estimation Theory\", Prentice Hall, 1993\n",
    "* Athanasios Papoulis: \"Probability, Random Variables and Stochastic Processes\", McGraw-Hill, 3. Auflage, 1991\n",
    "* Henry Stark, John W. Woods: \"Probability and Random Processes with Applications to Signal Processing\", 3. Auflage, Prentice Hall, 2002\n",
    "* Miller, Freund: \"Probability and Statistics for Engineers\", 7. Auflage, Prentice Hall, 2005"
   ]
  },
  {
   "cell_type": "markdown",
   "metadata": {},
   "source": [
    "## Autoren\n",
    "\n",
    "* Volker Kühn (author)"
   ]
  },
  {
   "cell_type": "markdown",
   "metadata": {},
   "source": [
    "**Copyright**\n",
    "\n",
    "The notebooks are provided as [Open Educational Resources](https://en.wikipedia.org/wiki/Open_educational_resources). Feel free to use the notebooks for your own purposes. The text is licensed under [Creative Commons Attribution 4.0](https://creativecommons.org/licenses/by/4.0/), the code of the IPython examples under the [MIT license](https://opensource.org/licenses/MIT). Please attribute the work as follows: *Sascha Spors, Digital Signal Processing - Lecture notes featuring computational examples*."
   ]
  }
 ],
 "metadata": {
  "anaconda-cloud": {},
  "kernelspec": {
   "display_name": "Python 3 (ipykernel)",
   "language": "python",
   "name": "python3"
  },
  "language_info": {
   "codemirror_mode": {
    "name": "ipython",
    "version": 3
   },
   "file_extension": ".py",
   "mimetype": "text/x-python",
   "name": "python",
   "nbconvert_exporter": "python",
   "pygments_lexer": "ipython3",
   "version": "3.9.18"
  }
 },
 "nbformat": 4,
 "nbformat_minor": 4
}
