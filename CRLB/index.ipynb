{
 "cells": [
  {
   "cell_type": "markdown",
   "metadata": {
    "nbsphinx": "hidden"
   },
   "source": [
    "# Quellencodierung\n",
    "\n",
    "Dieses Verzeichnis enthält [jupyter](https://jupyter.org/)-Notebooks für die Einführung der Entropie und einige Beispiele der Quellencodierung verwiesen.\n",
    "\n",
    "1. [Entropie](NT-SourceCodingEntropy.ipynb)\n",
    "2. [Morse-Code](NT-SourceCodingMorse.ipynb)\n",
    "3. [Shannon-Fano-Codierung](NT-SourceCodingFano.ipynb)\n",
    "4. [Huffman-Codierung](NT-SourceCodingHuffman.ipynb)\n",
    "5. [Vektor-Kompression](NT-VectorCompression.ipynb)\n",
    " "
   ]
  },
  {
   "cell_type": "markdown",
   "metadata": {},
   "source": [
    "**Copyright**\n",
    "\n",
    "The notebooks are provided as [Open Educational Resources](https://en.wikipedia.org/wiki/Open_educational_resources). Feel free to use the notebooks for your own purposes. The text is licensed under [Creative Commons Attribution 4.0](https://creativecommons.org/licenses/by/4.0/), the code of the IPython examples under the [MIT license](https://opensource.org/licenses/MIT). Please attribute the work as follows: *Sascha Spors, Digital Signal Processing - Lecture notes featuring computational examples*."
   ]
  }
 ],
 "metadata": {
  "anaconda-cloud": {},
  "kernelspec": {
   "display_name": "Python 3 (ipykernel)",
   "language": "python",
   "name": "python3"
  },
  "language_info": {
   "codemirror_mode": {
    "name": "ipython",
    "version": 3
   },
   "file_extension": ".py",
   "mimetype": "text/x-python",
   "name": "python",
   "nbconvert_exporter": "python",
   "pygments_lexer": "ipython3",
   "version": "3.9.17"
  }
 },
 "nbformat": 4,
 "nbformat_minor": 4
}
