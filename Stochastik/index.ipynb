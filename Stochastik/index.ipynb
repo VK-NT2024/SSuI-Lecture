{
 "cells": [
  {
   "cell_type": "markdown",
   "metadata": {
    "nbsphinx": "hidden"
   },
   "source": [
    "# Grundlagen Stochastik\n",
    "\n",
    "Dieses Verzeichnis enthält [jupyter](https://jupyter.org/)-Notebooks über die Grundlagen der Stochastik.\n",
    "\n",
    "1. [4 Jahreszeiten](SSuI-SeasonsTemperature.ipynb)\n",
    "2. [Rauschen](SSuI-Noise.ipynb)\n",
    "3. [Bedingte Wahrscheinlichkeiten](SSuI-AWGNCondProbs.ipynb)\n",
    "4. [Corona](SSuI-Corona.ipynb)\n"
   ]
  },
  {
   "cell_type": "markdown",
   "metadata": {},
   "source": [
    "**Copyright**\n",
    "\n",
    "The notebooks are provided as [Open Educational Resources](https://en.wikipedia.org/wiki/Open_educational_resources). Feel free to use the notebooks for your own purposes. The text is licensed under [Creative Commons Attribution 4.0](https://creativecommons.org/licenses/by/4.0/), the code of the IPython examples under the [MIT license](https://opensource.org/licenses/MIT). Please attribute the work as follows: *Sascha Spors, Digital Signal Processing - Lecture notes featuring computational examples*."
   ]
  }
 ],
 "metadata": {
  "anaconda-cloud": {},
  "kernelspec": {
   "display_name": "Python 3 (ipykernel)",
   "language": "python",
   "name": "python3"
  },
  "language_info": {
   "codemirror_mode": {
    "name": "ipython",
    "version": 3
   },
   "file_extension": ".py",
   "mimetype": "text/x-python",
   "name": "python",
   "nbconvert_exporter": "python",
   "pygments_lexer": "ipython3",
   "version": "3.9.17"
  }
 },
 "nbformat": 4,
 "nbformat_minor": 4
}
