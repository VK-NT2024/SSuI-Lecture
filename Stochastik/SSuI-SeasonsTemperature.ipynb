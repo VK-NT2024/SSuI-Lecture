{
 "cells": [
  {
   "cell_type": "markdown",
   "metadata": {},
   "source": [
    "# Bedingte Entropien von multivariaten Zufallsprozessen"
   ]
  },
  {
   "cell_type": "markdown",
   "metadata": {},
   "source": [
    "## Bedingte Wahrscheinlichkeiten 1"
   ]
  },
  {
   "cell_type": "markdown",
   "metadata": {},
   "source": [
    "Wir betrachten einen bivariaten Prozess. Die vier Jahreszeiten $\\mathbb{J} = \\{ \\text{Frühling}, \\text{Sommer}, \\text{Herbst}, \\text{Winter} \\}$ treten jeweils mit der Wahrscheinlichkeit $\\Pr \\{ J_{\\mu} = 0.25 \\}$ auf. Dazu betrachten wir die Temperaturen $\\mathbb{T} = \\{ -10°C, +10°C, +20°C \\}$. Die bedingten Wahrscheinlichkeiten lauten\n",
    "\n",
    "\n",
    "| $\\Pr\\{ {\\cal T}|{\\cal J} \\}$ | Frühling | Sommer | Herbst | Winter |\n",
    "| ----- | ----- | ----- | ----- | ----- | \n",
    "| -10°C |  0.1  |  0.0  |  0.1  |  0.8  |\n",
    "| +10°C |  0.6  |  0.1  |  0.6  |  0.2  |\n",
    "| +20°C |  0.3  |  0.9  |  0.3  |   0   | \n",
    "\n",
    "\n",
    "Die bedingte Entropie $H({\\cal T} \\mid {\\cal J})$ ist definiert als\n",
    "\n",
    "\\begin{align*}\n",
    "H({\\cal T} \\mid {\\cal J})\n",
    "&= \\mathrm{E} \\big\\{ \\log_2 \\Pr \\{ {\\cal T}=t \\mid {\\cal J}=j \\} \\big\\} \\\\\n",
    "&= - \\sum_{j \\in \\mathbb{J}} \\sum_{t \\in \\mathbb{T}} \\Pr \\{ {\\cal T}=t, {\\cal J}=j \\} \\cdot \\log_2 \\Pr \\{ {\\cal T}=t \\mid {\\cal J}=j \\} \\\\\n",
    "&= - \\sum_{j \\in \\mathbb{J}} \\Pr\\{ {\\cal J} = j \\} \\cdot \\sum_{t \\in \\mathbb{T}} \\Pr \\{ {\\cal T}=t \\mid {\\cal J}=j \\} \\cdot \\log_2 \\Pr \\{ {\\cal T}=t \\mid {\\cal J}=j \\} \\\\\n",
    "&= - \\frac{1}{4} \\cdot  \\sum_{j \\in \\mathbb{J}} \\sum_{t \\in \\mathbb{T}} \\Pr \\{ {\\cal T}=t \\mid {\\cal J}=j \\} \\cdot \\log_2 \\Pr \\{ {\\cal T}=t \\mid {\\cal J}=j \\}\n",
    "\\end{align*}\n",
    "\n",
    "Für $H({\\cal T} \\mid {\\cal J})=0$ wäre die Temperatur vollständig durch die Jahreszeit bestimmt, d.h. bei bekannter Jahreszeit gibt es keine Unsicherheit hinsichtlich der Temperatur. Für $H({\\cal T} \\mid {\\cal J})=H({\\cal T})$ ist die Unsicherheit hinsichtlich der Temperatur maximal, d.h. die Jahreszeit enthält keine Information über die Temperatur, beide Größen wären statistisch unabhängig voneinander. "
   ]
  },
  {
   "cell_type": "code",
   "execution_count": 1,
   "metadata": {},
   "outputs": [
    {
     "name": "stdout",
     "output_type": "stream",
     "text": [
      "Die bedingte Entropie hat den Wert H(T | J) = 0.945462 bit.\n",
      "\n"
     ]
    }
   ],
   "source": [
    "import numpy as np\n",
    "\n",
    "# Definition der bedingten Wahrscheinlichkeiten Temperatur gegeben Jahreszeit \n",
    "Pr_T_J = np.array([[0.1, 0, 0.1, 0.8],[0.6, 0.1, 0.6, 0.2],[0.3, 0.9, 0.3, 0.0]])\n",
    "\n",
    "# Berechnung der bedingten Entropie H(T | J)  (Nullen werden nicht berücksichtigt da 0 * log(0) = 0)\n",
    "H_T_J = 0.25 * Pr_T_J * np.log2(Pr_T_J, out=np.zeros_like(Pr_T_J), where=(Pr_T_J!=0))\n",
    "H_T_J = - np.sum(H_T_J)\n",
    "\n",
    "print(\"Die bedingte Entropie hat den Wert H(T | J) = %g bit.\\n\" % (H_T_J))"
   ]
  },
  {
   "cell_type": "markdown",
   "metadata": {},
   "source": [
    "## Verbundwahrscheinlichkeiten "
   ]
  },
  {
   "cell_type": "markdown",
   "metadata": {},
   "source": [
    "Die Verbundwahrscheinlichkeiten können über die Beziehung \n",
    "\n",
    "\\begin{equation}\n",
    "    \\Pr\\{ {\\cal T}=t, {\\cal J}=j\\} = \\Pr\\{ {\\cal T}=t \\mid {\\cal J}=j\\} \\cdot \\Pr\\{ {\\cal J}=j\\}\n",
    "\\end{equation}\n",
    "\n",
    "berechnet werden. Die zugehörige Verbundentropie ist zu \n",
    "\n",
    "\\begin{align*}\n",
    "H({\\cal T}, {\\cal J}) \n",
    "&= \\mathrm{E} \\big\\{ \\log_2 \\Pr\\{ {\\cal T}=t, {\\cal J}=j\\} \\big\\} \\\\\n",
    "&= - \\sum_{j \\in \\mathbb{J}} \\sum_{t \\in \\mathbb{T}} \\Pr \\{ {\\cal T}=t, {\\cal J}=j \\} \\cdot \\log_2 \\Pr \\{ {\\cal T}=t, {\\cal J}=j \\} \n",
    "\\end{align*}\n",
    "\n",
    "definiert."
   ]
  },
  {
   "cell_type": "code",
   "execution_count": 2,
   "metadata": {},
   "outputs": [
    {
     "name": "stdout",
     "output_type": "stream",
     "text": [
      "Die Verbundwahrscheinlichkeiten lauten \n",
      " [[0.025 0.    0.025 0.2  ]\n",
      " [0.15  0.025 0.15  0.05 ]\n",
      " [0.075 0.225 0.075 0.   ]] \n",
      "\n"
     ]
    }
   ],
   "source": [
    "# Berechnung der Verbundwahrscheinlichkeiten\n",
    "Pr_TJ = Pr_T_J * 0.25\n",
    "\n",
    "print(\"Die Verbundwahrscheinlichkeiten lauten \\n\", Pr_TJ, \"\\n\")"
   ]
  },
  {
   "cell_type": "code",
   "execution_count": 3,
   "metadata": {},
   "outputs": [
    {
     "name": "stdout",
     "output_type": "stream",
     "text": [
      "Die Verbundentropie beträgt 2.94546 bit.\n",
      "\n"
     ]
    }
   ],
   "source": [
    "# Berechnung der Verbundentropie (Nullen werden nicht berücksichtigt da 0 * log(0) = 0)\n",
    "H_TJ = Pr_TJ * np.log2(Pr_TJ, out=np.zeros_like(Pr_TJ), where=(Pr_TJ!=0))\n",
    "H_TJ = - np.sum(H_TJ)\n",
    "\n",
    "print(\"Die Verbundentropie beträgt %g bit.\\n\" % (H_TJ))"
   ]
  },
  {
   "cell_type": "markdown",
   "metadata": {},
   "source": [
    "## Marginale Wahrscheinlichkeiten "
   ]
  },
  {
   "cell_type": "markdown",
   "metadata": {},
   "source": [
    "Die marginalen Wahrscheinlichkeiten können über die einfchen Beziehungen\n",
    "\n",
    "\\begin{align}\n",
    "    \\Pr\\{ {\\cal T}=t \\} &= \\sum_{ j \\in \\mathbb{J}} \\Pr\\{ {\\cal T}=t, {\\cal J}=j\\} \\\\\n",
    "    \\Pr\\{ {\\cal J}=j \\} &= \\sum_{ t \\in \\mathbb{T}} \\Pr\\{ {\\cal T}=t, {\\cal J}=j\\} \n",
    "\\end{align}\n",
    "\n",
    "berechnet werden. Die Wahrscheinlichkeiten der Temperaturen werden demnach als Summe über die Spalten (je Zeile) berechnet, die der Jahrenzeiten als Summe über die Zeilen (je Spalte)."
   ]
  },
  {
   "cell_type": "code",
   "execution_count": 4,
   "metadata": {},
   "outputs": [
    {
     "name": "stdout",
     "output_type": "stream",
     "text": [
      "Die Wahrscheinlichkeiten der Temperaturen lauten \n",
      " [0.25  0.375 0.375]\n",
      "Die Entropie der Temperatur beträgt 1.56128 bit. \n",
      "\n",
      "Zur Kontrolle: Die Wahrscheinlichkeiten der Jahrenzeiten sind \n",
      " [0.25 0.25 0.25 0.25]\n",
      "Die Entropie der Jahreszeiten beträgt 2 bit. \n",
      "\n"
     ]
    }
   ],
   "source": [
    "# marginale Wahrscheinlichkeiten für die Temperaturen\n",
    "Pr_T = np.sum(Pr_TJ,axis=1)\n",
    "Pr_J = np.sum(Pr_TJ,axis=0)\n",
    "\n",
    "# Entropien für Temperatur und Jahreszeit\n",
    "H_T = - Pr_T @ np.transpose(np.log2(Pr_T))\n",
    "H_J = - Pr_J @ np.transpose(np.log2(Pr_J))\n",
    "\n",
    "print(\"Die Wahrscheinlichkeiten der Temperaturen lauten \\n\", Pr_T)\n",
    "print(\"Die Entropie der Temperatur beträgt %g bit. \\n\" %(H_T))\n",
    "\n",
    "print(\"Zur Kontrolle: Die Wahrscheinlichkeiten der Jahrenzeiten sind \\n\", Pr_J)\n",
    "print(\"Die Entropie der Jahreszeiten beträgt %g bit. \\n\" %(H_J))"
   ]
  },
  {
   "cell_type": "markdown",
   "metadata": {},
   "source": [
    "## Bedingte Wahrscheinlichkeiten 2"
   ]
  },
  {
   "cell_type": "markdown",
   "metadata": {},
   "source": [
    "Basierend auf den marginalen und den Verbundwahrscheinlichkeiten lassen sich nun auch die bedingten Wahrscheinlichkeiten\n",
    "\n",
    "\\begin{equation}\n",
    "    \\Pr\\{ {\\cal J} \\mid {\\cal T} \\} = \\frac{\\Pr\\{ {\\cal T},  {\\cal J} \\}} {\\Pr\\{ {\\cal T} \\}}\n",
    "\\end{equation}\n",
    "\n",
    "bestimmen. Sie geben an, mit welcher Wahrscheinlichkeit eine Jahreszeit bei gegebener Temperatur vorkommt. Die bedingte Entropie $H({\\cal J} \\mid {\\cal T})$ ergibt sich zu\n",
    "\n",
    "\\begin{align*}\n",
    "    H({\\cal J} \\mid {\\cal T}) \n",
    "    &= \\mathrm{E} \\big\\{ \\log_2 \\Pr\\{ {\\cal J} \\mid {\\cal T} \\} \\big\\} \\\\\n",
    "    &= - \\sum_{j \\in \\mathbb{J}} \\sum_{t \\in \\mathbb{T}} \\Pr \\{ {\\cal T}=t, {\\cal J}=j \\} \\cdot \\log_2 \\Pr \\{ {\\cal J}=j \\mid {\\cal T}=t \\} \\\\\n",
    "    &= - \\sum_{t \\in \\mathbb{T}} \\Pr\\{ {\\cal T} = t \\} \\cdot \\sum_{j \\in \\mathbb{J}} \\Pr \\{ {\\cal J}=j \\mid {\\cal T}=t \\} \\cdot \\log_2 \\Pr \\{ {\\cal J}=j \\mid {\\cal T}=t \\} \\\\\n",
    "\\end{align*}"
   ]
  },
  {
   "cell_type": "code",
   "execution_count": 5,
   "metadata": {},
   "outputs": [
    {
     "name": "stdout",
     "output_type": "stream",
     "text": [
      "Die bedingten Wahrscheinlichkeiten Pr{J | T} lauten \n",
      " [[0.1        0.         0.1        0.8       ]\n",
      " [0.4        0.06666667 0.4        0.13333333]\n",
      " [0.2        0.6        0.2        0.        ]] \n",
      "\n",
      "Die bedingte Entropie H(J | T) hat den Wert 1.38418 bit.\n",
      "\n"
     ]
    }
   ],
   "source": [
    "# Bedingte Wahrscheinlichkeit berechnen\n",
    "Pr_J_T = Pr_TJ / np.tile(np.reshape(Pr_T,(3, 1)),(1,4))\n",
    "\n",
    "# Berechnung der bedingten Entropie H( J | T)  (Nullen werden nicht berücksichtigt da 0 * log(0) = 0)\n",
    "H_J_T = Pr_TJ * np.log2(Pr_J_T, out=np.zeros_like(Pr_J_T), where=(Pr_J_T!=0))\n",
    "H_J_T = - np.sum(H_J_T)\n",
    "\n",
    "print(\"Die bedingten Wahrscheinlichkeiten Pr{J | T} lauten \\n\", Pr_J_T, \"\\n\")\n",
    "\n",
    "print(\"Die bedingte Entropie H(J | T) hat den Wert %g bit.\\n\" %(H_J_T))"
   ]
  },
  {
   "cell_type": "markdown",
   "metadata": {},
   "source": [
    "Der Vergleich der bedingten Entropien mit den nicht bedingten Entropien verdeutlicht, dass Seiteninformation die Unsicherheit verringert. So nimmt die Entropie von 1.56 bit auf 0.945 bit ab, wenn die Jahreszeit bekannt ist. Für die Jahreszeiten nimmt die Entropie von 2 bit auf 1.38 bit bei bekannter Temperatur ab. Hieraus können wir für das betrachtete fiktive Beispiel schließen, dass die Temperatur weniger über die Jahreszeit auszusagen scheint als umgekehrt."
   ]
  },
  {
   "cell_type": "markdown",
   "metadata": {},
   "source": [
    "## Transinformation "
   ]
  },
  {
   "cell_type": "markdown",
   "metadata": {},
   "source": [
    "Die Transinformation, auch als wechselseitige Information (mutual information) bezeichnet, gibt die gemeinsame Information von Jahreszeiten und Temperatur an. Sie ist zu\n",
    "\n",
    "\\begin{align}\n",
    "    I({\\cal T};{\\cal J})\n",
    "    &= H({\\cal T}) + H({\\cal J}) - H({\\cal T},{\\cal J})\n",
    "     = H({\\cal T}) - H({\\cal T} \\mid {\\cal J})\n",
    "     = H({\\cal J}) - H({\\cal J} \\mid {\\cal T})\n",
    "\\end{align}\n",
    "\n",
    "definiert. Je größer die Transinformation, desto ähnlicher sind sich die betrachteten Prozesse. Dabei ist die Transinformation durch das Minimum von $H({\\cal J})$ und $H({\\cal T})$ nach oben begrenzt."
   ]
  },
  {
   "cell_type": "code",
   "execution_count": 6,
   "metadata": {},
   "outputs": [
    {
     "name": "stdout",
     "output_type": "stream",
     "text": [
      "Die Transinformation hat den Wert I(J;T)=0.615816 bit.\n",
      "\n"
     ]
    }
   ],
   "source": [
    "I_JT = 2 - H_J_T\n",
    "\n",
    "print(\"Die Transinformation hat den Wert I(J;T)=%g bit.\\n\" %(I_JT))"
   ]
  }
 ],
 "metadata": {
  "kernelspec": {
   "display_name": "Python 3 (ipykernel)",
   "language": "python",
   "name": "python3"
  },
  "language_info": {
   "codemirror_mode": {
    "name": "ipython",
    "version": 3
   },
   "file_extension": ".py",
   "mimetype": "text/x-python",
   "name": "python",
   "nbconvert_exporter": "python",
   "pygments_lexer": "ipython3",
   "version": "3.12.8"
  }
 },
 "nbformat": 4,
 "nbformat_minor": 4
}
